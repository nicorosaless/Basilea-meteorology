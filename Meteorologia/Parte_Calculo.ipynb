{
 "cells": [
  {
   "cell_type": "code",
   "execution_count": 28,
   "id": "9b06ea54",
   "metadata": {
    "scrolled": false
   },
   "outputs": [
    {
     "name": "stderr",
     "output_type": "stream",
     "text": [
      "C:\\Users\\nirog\\AppData\\Local\\Temp\\ipykernel_18144\\2140552361.py:3: DtypeWarning: Columns (1,2) have mixed types. Specify dtype option on import or set low_memory=False.\n",
      "  df = pd.read_csv('dataexport_20221117T084926.csv')\n"
     ]
    }
   ],
   "source": [
    "# importamos libreria y leemos el archivo\n",
    "import pandas as pd\n",
    "df = pd.read_csv('dataexport_20221117T084926.csv')"
   ]
  },
  {
   "cell_type": "code",
   "execution_count": null,
   "id": "d4ba0ec9",
   "metadata": {},
   "outputs": [],
   "source": [
    "# 1. Leer el fichero desde python: "
   ]
  },
  {
   "cell_type": "code",
   "execution_count": 29,
   "id": "19cb5251",
   "metadata": {},
   "outputs": [
    {
     "name": "stdout",
     "output_type": "stream",
     "text": [
      "             location                                        Basilea  \\\n",
      "0                 lat                                       47.54694   \n",
      "1                 lon                                        7.56892   \n",
      "2                 asl                                        283.697   \n",
      "3            variable                                    Temperature   \n",
      "4                unit                                             °C   \n",
      "5               level                        2 m elevation corrected   \n",
      "6          resolution                                         hourly   \n",
      "7         aggregation                                           None   \n",
      "8           timestamp  Basilea Temperature [2 m elevation corrected]   \n",
      "133690  20080101T0100                                    -0.10947134   \n",
      "133691  20080101T0200                                      1.9005287   \n",
      "133692  20080101T0300                                      1.6105287   \n",
      "133693  20080101T0400                                      1.1105287   \n",
      "133694  20080101T0500                                      0.8205287   \n",
      "133695  20080101T0600                                     0.55052865   \n",
      "133696  20080101T0700                                     0.22052866   \n",
      "133697  20080101T0800                                    -0.38947132   \n",
      "133698  20080101T0900                                    -0.69947135   \n",
      "133699  20080101T1000                                     0.18052867   \n",
      "133700  20080101T1100                                     0.93052864   \n",
      "133701  20080101T1200                                      1.4405286   \n",
      "133702  20080101T1300                                      2.0905285   \n",
      "133703  20080101T1400                                      2.9105287   \n",
      "133704  20080101T1500                                      3.5305285   \n",
      "133705  20080101T1600                                      3.7905285   \n",
      "133706  20080101T1700                                      3.5405285   \n",
      "133707  20080101T1800                                      3.4605286   \n",
      "133708  20080101T1900                                      2.8805285   \n",
      "133709  20080101T2000                                      2.1005285   \n",
      "133710  20080101T2100                                     0.85052866   \n",
      "133711  20080101T2200                                     0.38052866   \n",
      "133712  20080101T2300                                    0.040528655   \n",
      "133713  20080102T0000                                    -0.17947134   \n",
      "133714  20080102T0100                                    -0.75947136   \n",
      "133715  20080102T0200                                     -1.5894713   \n",
      "133716  20080102T0300                                     -2.2894714   \n",
      "133717  20080102T0400                                     -2.9194715   \n",
      "133718  20080102T0500                                     -3.6094716   \n",
      "133719  20080102T0600                                     -3.5494714   \n",
      "133720  20080102T0700                                     -3.8294713   \n",
      "133721  20080102T0800                                     -4.0394716   \n",
      "133722  20080102T0900                                     -3.8194714   \n",
      "133723  20080102T1000                                     -2.8394713   \n",
      "133724  20080102T1100                                     -1.3894713   \n",
      "133725  20080102T1200                                    0.050528657   \n",
      "133726  20080102T1300                                      1.1705287   \n",
      "133727  20080102T1400                                      2.2505286   \n",
      "133728  20080102T1500                                      2.5705285   \n",
      "\n",
      "                          Basilea.1  \n",
      "0                          47.54694  \n",
      "1                           7.56892  \n",
      "2                           283.697  \n",
      "3               Precipitation Total  \n",
      "4                                mm  \n",
      "5                               sfc  \n",
      "6                            hourly  \n",
      "7                              None  \n",
      "8       Basilea Precipitation Total  \n",
      "133690                          0.0  \n",
      "133691                          0.0  \n",
      "133692                          0.0  \n",
      "133693                          0.0  \n",
      "133694                          0.0  \n",
      "133695                          0.0  \n",
      "133696                          0.0  \n",
      "133697                          0.0  \n",
      "133698                          0.0  \n",
      "133699                          0.0  \n",
      "133700                          0.0  \n",
      "133701                          0.0  \n",
      "133702                          0.0  \n",
      "133703                          0.0  \n",
      "133704                          0.0  \n",
      "133705                          0.0  \n",
      "133706                          0.0  \n",
      "133707                          0.0  \n",
      "133708                          0.0  \n",
      "133709                          0.0  \n",
      "133710                          0.0  \n",
      "133711                          0.0  \n",
      "133712                          0.0  \n",
      "133713                          0.0  \n",
      "133714                          0.0  \n",
      "133715                          0.0  \n",
      "133716                          0.0  \n",
      "133717                          0.0  \n",
      "133718                          0.0  \n",
      "133719                          0.0  \n",
      "133720                          0.0  \n",
      "133721                          0.0  \n",
      "133722                          0.0  \n",
      "133723                          0.0  \n",
      "133724                          0.0  \n",
      "133725                          0.0  \n",
      "133726                          0.0  \n",
      "133727                          0.0  \n",
      "133728                          0.0  \n"
     ]
    }
   ],
   "source": [
    "# eliminar cosas innecesarias (comas, quitar espacios que no valgan, etc).\n",
    "# este comando elimina rows con valores nulos\n",
    "df = df.dropna()\n",
    "print(df.head(48))"
   ]
  },
  {
   "cell_type": "code",
   "execution_count": 30,
   "id": "009a8952",
   "metadata": {},
   "outputs": [
    {
     "name": "stdout",
     "output_type": "stream",
     "text": [
      "             location      Basilea Basilea.1\n",
      "133690  20080101T0100  -0.10947134       0.0\n",
      "133691  20080101T0200    1.9005287       0.0\n",
      "133692  20080101T0300    1.6105287       0.0\n",
      "133693  20080101T0400    1.1105287       0.0\n",
      "133694  20080101T0500    0.8205287       0.0\n",
      "133695  20080101T0600   0.55052865       0.0\n",
      "133696  20080101T0700   0.22052866       0.0\n",
      "133697  20080101T0800  -0.38947132       0.0\n",
      "133698  20080101T0900  -0.69947135       0.0\n",
      "133699  20080101T1000   0.18052867       0.0\n"
     ]
    }
   ],
   "source": [
    "df1 = df.drop(range(0,9))\n",
    "print(df1.head(10))"
   ]
  },
  {
   "cell_type": "code",
   "execution_count": 31,
   "id": "c153e5ce",
   "metadata": {},
   "outputs": [
    {
     "name": "stdout",
     "output_type": "stream",
     "text": [
      "                 date temp_in_Basilea Basilea.1\n",
      "133690  20080101T0100     -0.10947134       0.0\n",
      "133691  20080101T0200       1.9005287       0.0\n",
      "133692  20080101T0300       1.6105287       0.0\n",
      "133693  20080101T0400       1.1105287       0.0\n",
      "133694  20080101T0500       0.8205287       0.0\n",
      "...               ...             ...       ...\n",
      "263740  20221101T1900       14.560529       0.0\n",
      "263741  20221101T2000       14.500529       0.0\n",
      "263742  20221101T2100       13.830529       0.0\n",
      "263743  20221101T2200       13.200529       0.0\n",
      "263744  20221101T2300       12.740529       0.0\n",
      "\n",
      "[130055 rows x 3 columns]\n"
     ]
    }
   ],
   "source": [
    "df1.rename(columns = {'location':'date'}, inplace = True)\n",
    "df1.rename(columns = {'Basilea': 'temp_in_Basilea'}, inplace = True)\n",
    "print(df1)"
   ]
  },
  {
   "cell_type": "code",
   "execution_count": 32,
   "id": "7c90783f",
   "metadata": {
    "scrolled": false
   },
   "outputs": [],
   "source": [
    "\n",
    "def change(s):\n",
    "    result_date = s[6:8] + '-' + s[4:6] +'-' + s[0:4] # genera la fecha en formato DD-MM-AAAA\n",
    "    result_time = s[-4:-2] + ':' + s[-2:] # genera la hora en formato xx:xx\n",
    "    return result_date + '/' + result_time # devuelve el formato en resultado DD-MM-AAAA/xx:xx"
   ]
  },
  {
   "cell_type": "code",
   "execution_count": 33,
   "id": "40850eb9",
   "metadata": {
    "scrolled": true
   },
   "outputs": [
    {
     "name": "stdout",
     "output_type": "stream",
     "text": [
      "                 date temp_in_Basilea Basilea.1\n",
      "133690  20080101T0100     -0.10947134       0.0\n",
      "133691  20080101T0200       1.9005287       0.0\n",
      "133692  20080101T0300       1.6105287       0.0\n",
      "133693  20080101T0400       1.1105287       0.0\n",
      "133694  20080101T0500       0.8205287       0.0\n",
      "...               ...             ...       ...\n",
      "263740  20221101T1900       14.560529       0.0\n",
      "263741  20221101T2000       14.500529       0.0\n",
      "263742  20221101T2100       13.830529       0.0\n",
      "263743  20221101T2200       13.200529       0.0\n",
      "263744  20221101T2300       12.740529       0.0\n",
      "\n",
      "[130055 rows x 3 columns]\n"
     ]
    }
   ],
   "source": [
    "print(df1)"
   ]
  },
  {
   "cell_type": "code",
   "execution_count": 34,
   "id": "18d83956",
   "metadata": {
    "scrolled": false
   },
   "outputs": [
    {
     "name": "stdout",
     "output_type": "stream",
     "text": [
      "                 date temp_in_Basilea Basilea.1\n",
      "133690  20080101T0100     -0.10947134       0.0\n",
      "133691  20080101T0200       1.9005287       0.0\n",
      "133692  20080101T0300       1.6105287       0.0\n",
      "133693  20080101T0400       1.1105287       0.0\n",
      "133694  20080101T0500       0.8205287       0.0\n"
     ]
    }
   ],
   "source": [
    "print(df1.head())\n"
   ]
  },
  {
   "cell_type": "code",
   "execution_count": null,
   "id": "652b82c1",
   "metadata": {},
   "outputs": [],
   "source": [
    "# 2. Arreglar el fichero para que aparezca solo el nombre del lugar, la fecha en formato DD-MM-YYYY, y dos columnas de datos, eliminando cosas innecesarias (comas, quitar espacios que no valgan, etc)."
   ]
  },
  {
   "cell_type": "code",
   "execution_count": 35,
   "id": "e21475ae",
   "metadata": {},
   "outputs": [
    {
     "name": "stdout",
     "output_type": "stream",
     "text": [
      "Wall time: 16min 45s\n"
     ]
    }
   ],
   "source": [
    "%%time\n",
    "\n",
    "# cambia cada elemento de 'date' en formato DD-MM-AAAA/xx:xx\n",
    "for x in df1['date']:\n",
    "    df1['date'] = df1['date'].replace([x], change(x))\n",
    "    "
   ]
  },
  {
   "cell_type": "code",
   "execution_count": 36,
   "id": "781f0342",
   "metadata": {},
   "outputs": [
    {
     "name": "stdout",
     "output_type": "stream",
     "text": [
      "                    date temp_in_Basilea Basilea.1\n",
      "133690  01-01-2008/01:00     -0.10947134       0.0\n",
      "133691  01-01-2008/02:00       1.9005287       0.0\n",
      "133692  01-01-2008/03:00       1.6105287       0.0\n",
      "133693  01-01-2008/04:00       1.1105287       0.0\n",
      "133694  01-01-2008/05:00       0.8205287       0.0\n",
      "...                  ...             ...       ...\n",
      "263740  01-11-2022/19:00       14.560529       0.0\n",
      "263741  01-11-2022/20:00       14.500529       0.0\n",
      "263742  01-11-2022/21:00       13.830529       0.0\n",
      "263743  01-11-2022/22:00       13.200529       0.0\n",
      "263744  01-11-2022/23:00       12.740529       0.0\n",
      "\n",
      "[130055 rows x 3 columns]\n"
     ]
    }
   ],
   "source": [
    "print(df1)"
   ]
  },
  {
   "cell_type": "code",
   "execution_count": 37,
   "id": "3baefb5b",
   "metadata": {},
   "outputs": [],
   "source": [
    "# pasamos nuestro dataframe final a un archivo csv\n",
    "df1.to_csv (r'C:\\Users\\nirog\\Meteorologia\\basilea_dataframe.csv', index = None, header=True) "
   ]
  }
 ],
 "metadata": {
  "kernelspec": {
   "display_name": "Python 3 (ipykernel)",
   "language": "python",
   "name": "python3"
  },
  "language_info": {
   "codemirror_mode": {
    "name": "ipython",
    "version": 3
   },
   "file_extension": ".py",
   "mimetype": "text/x-python",
   "name": "python",
   "nbconvert_exporter": "python",
   "pygments_lexer": "ipython3",
   "version": "3.9.13"
  }
 },
 "nbformat": 4,
 "nbformat_minor": 5
}
