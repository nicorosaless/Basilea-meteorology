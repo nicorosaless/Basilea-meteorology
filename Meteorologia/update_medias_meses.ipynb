{
 "cells": [
  {
   "cell_type": "code",
   "execution_count": 35,
   "id": "9760f069",
   "metadata": {},
   "outputs": [],
   "source": [
    "import numpy as np\n",
    "import pandas as pd\n",
    "from matplotlib import pyplot as plt\n",
    "import seaborn as sns\n",
    "\n",
    "\n",
    "df = pd.read_csv('basilea_dataframe.csv')\n",
    "# cambiamos el database a dias (con media)\n",
    "z = df['date']\n",
    "datos = {\n",
    "    'date' : [],\n",
    "    'temp' : [],\n",
    "    'precipitation' : []\n",
    "}\n",
    "\n",
    "def apply(x):\n",
    "    return x[:-6]\n",
    "\n",
    "\n",
    "for i in z:\n",
    "    z = z.replace(i,apply(i))\n",
    "print(df)\n",
    "\n",
    "\n",
    "    \n",
    "\n",
    "        \n"
   ]
  },
  {
   "cell_type": "code",
   "execution_count": 15,
   "id": "439fca2b",
   "metadata": {},
   "outputs": [
    {
     "ename": "IndentationError",
     "evalue": "expected an indented block (490873421.py, line 12)",
     "output_type": "error",
     "traceback": [
      "\u001b[1;36m  File \u001b[1;32m\"C:\\Users\\nirog\\AppData\\Local\\Temp\\ipykernel_11064\\490873421.py\"\u001b[1;36m, line \u001b[1;32m12\u001b[0m\n\u001b[1;33m    else:\u001b[0m\n\u001b[1;37m    ^\u001b[0m\n\u001b[1;31mIndentationError\u001b[0m\u001b[1;31m:\u001b[0m expected an indented block\n"
     ]
    }
   ],
   "source": [
    "# calcular media de cada mes\n",
    "y = df['date']\n",
    "\n",
    "lista_media_meses = []\n",
    "for i, x in enumerate(y): # for x in df['date']\n",
    "    while i != 0:\n",
    "        ce = y[i]\n",
    "        ae = y[i-1]\n",
    "        \n",
    "        if ce[3:5] > ae[3:5]:\n",
    "            # anadir la media mensual a la lista\n",
    "        else:\n",
    "            \n",
    "    \n",
    "    \n",
    "# for i in range(30):\n",
    "#     print(df['temp_in_Basilea'][i])\n",
    "    "
   ]
  }
 ],
 "metadata": {
  "kernelspec": {
   "display_name": "Python 3 (ipykernel)",
   "language": "python",
   "name": "python3"
  },
  "language_info": {
   "codemirror_mode": {
    "name": "ipython",
    "version": 3
   },
   "file_extension": ".py",
   "mimetype": "text/x-python",
   "name": "python",
   "nbconvert_exporter": "python",
   "pygments_lexer": "ipython3",
   "version": "3.9.13"
  }
 },
 "nbformat": 4,
 "nbformat_minor": 5
}
